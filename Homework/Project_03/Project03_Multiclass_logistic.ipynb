{
 "cells": [
  {
   "cell_type": "code",
   "execution_count": 47,
   "metadata": {},
   "outputs": [],
   "source": [
    "import numpy as np\n",
    "import pandas as pd\n",
    "import matplotlib.pyplot as plt\n",
    "import sklearn as sk\n",
    "from sklearn.model_selection import train_test_split"
   ]
  },
  {
   "cell_type": "markdown",
   "metadata": {},
   "source": [
    "### 1. Multi-class logistic regression with gradient descent"
   ]
  },
  {
   "cell_type": "markdown",
   "metadata": {},
   "source": [
    "#### Load data"
   ]
  },
  {
   "cell_type": "code",
   "execution_count": 55,
   "metadata": {},
   "outputs": [],
   "source": [
    "df = pd.read_csv('Iris.csv')\n",
    "Y = df['Species'].values\n",
    "X = df[['SepalLengthCm', 'SepalWidthCm', 'PetalLengthCm', 'PetalWidthCm']]\n",
    "X = X.values\n",
    "\n",
    "X_train, X_test, Y_train, Y_test = sk.model_selection.train_test_split(X,Y, test_size = .4)\n",
    "numTrain = X_train.shape[0]\n",
    "numTest = X_test.shape[0]\n"
   ]
  },
  {
   "cell_type": "markdown",
   "metadata": {},
   "source": [
    "#### Define functions"
   ]
  },
  {
   "cell_type": "code",
   "execution_count": 49,
   "metadata": {},
   "outputs": [],
   "source": [
    "def softmax(u):\n",
    "    expu = np.exp(u)\n",
    "    return expu/np.sum(expu)"
   ]
  },
  {
   "cell_type": "code",
   "execution_count": 56,
   "metadata": {},
   "outputs": [],
   "source": [
    "def multiLog_GD(X_train, Y_train, maxIter, alpha):    \n",
    "    N, d = X_train.shape\n",
    "    allOnes = np.ones((N,1))\n",
    "    X_train_aug = np.hstack((allOnes, X_train))\n",
    "    Y_oneHot = pd.get_dummies(Y_train).values\n",
    "    K = Y_oneHot.shape[1]\n",
    "    beta = np.random.randn(K,d+1)\n",
    "    gradNorms =[]\n",
    "    for idx in range(maxIter):\n",
    "        grad = np.zeros((K,d+1))\n",
    "        for i in range(N):\n",
    "            XiHat = X_train_aug[i,:]\n",
    "            Yi = Y_oneHot[i,:]\n",
    "            u = beta @ XiHat #@ here means matrix multiplication in numpy\n",
    "            Su = softmax(u)\n",
    "            grad_i = np.zeros((K,d+1))\n",
    "            for k in range(K):\n",
    "                grad_i[k,:] = (Su[k] - Yi[k])*XiHat\n",
    "            grad += grad_i\n",
    "        beta = beta - alpha*grad\n",
    "        nrm = np.linalg.norm(grad)\n",
    "        gradNorms.append(nrm)\n",
    "    return beta, gradNorms   \n"
   ]
  },
  {
   "cell_type": "code",
   "execution_count": 129,
   "metadata": {
    "scrolled": true
   },
   "outputs": [],
   "source": [
    "def accuracy(X_test,Y_test,beta,alpha):\n",
    "    N_test = X_test.shape[0]\n",
    "    allOnes_test = np.ones((N_test,1))\n",
    "    X_test_aug = np.hstack((allOnes_test, X_test))\n",
    "    numSuccess = 0\n",
    "    for i in range(N_test):\n",
    "        XiHat = X_test_aug[i,:]\n",
    "        Yi = Y_test[i]\n",
    "        u = beta @ XiHat\n",
    "        Su = softmax(u)\n",
    "        k = np.argmax(Su)\n",
    "        if k == 0:\n",
    "            pred = 'Iris-setosa'\n",
    "        if k == 1:\n",
    "            pred = 'Iris-versicolor'\n",
    "        if k == 2:\n",
    "            pred = 'Iris-verginica'\n",
    "        if pred == Yi:\n",
    "            numSuccess +=1\n",
    "    accuracy = round(numSuccess/N_test,2)\n",
    "    print('accuracy of learning rate ' + str(alpha) + ':' + str(accuracy))\n",
    "    return accuracy"
   ]
  },
  {
   "cell_type": "markdown",
   "metadata": {},
   "source": [
    "#### Run regression and test accuracy"
   ]
  },
  {
   "cell_type": "code",
   "execution_count": 87,
   "metadata": {},
   "outputs": [],
   "source": [
    "from matplotlib.lines import Line2D"
   ]
  },
  {
   "cell_type": "code",
   "execution_count": 104,
   "metadata": {},
   "outputs": [],
   "source": [
    "l1 = multiLog_GD(X_train,Y_train,maxIter = 1000, alpha = .0005)\n",
    "l2 = multiLog_GD(X_train,Y_train,maxIter = 1000, alpha = .001)\n",
    "l3 = multiLog_GD(X_train,Y_train,maxIter = 1000, alpha = .00002)\n",
    "l4 = multiLog_GD(X_train,Y_train,maxIter = 1000, alpha = .0006)"
   ]
  },
  {
   "cell_type": "code",
   "execution_count": 130,
   "metadata": {},
   "outputs": [
    {
     "name": "stdout",
     "output_type": "stream",
     "text": [
      "accuracy of learning rate 0.0005:0.67\n",
      "accuracy of learning rate 0.001:0.68\n",
      "accuracy of learning rate 2e-05:0.57\n",
      "accuracy of learning rate 0.0006:0.65\n"
     ]
    }
   ],
   "source": [
    "a1 = accuracy(X_test, Y_test, beta = l1[0], alpha = .0005)\n",
    "a2 = accuracy(X_test, Y_test, beta = l2[0], alpha = .001)\n",
    "a3 = accuracy(X_test, Y_test, beta = l3[0], alpha = .00002)\n",
    "a4 = accuracy(X_test, Y_test, beta = l4[0], alpha = .0006)"
   ]
  },
  {
   "cell_type": "code",
   "execution_count": 117,
   "metadata": {},
   "outputs": [
    {
     "data": {
      "text/plain": [
       "4.178384185923764"
      ]
     },
     "execution_count": 117,
     "metadata": {},
     "output_type": "execute_result"
    }
   ],
   "source": [
    "l1[1][-1]"
   ]
  },
  {
   "cell_type": "code",
   "execution_count": 118,
   "metadata": {},
   "outputs": [
    {
     "data": {
      "text/plain": [
       "2.176138764860418"
      ]
     },
     "execution_count": 118,
     "metadata": {},
     "output_type": "execute_result"
    }
   ],
   "source": [
    "l2[1][-1]"
   ]
  },
  {
   "cell_type": "code",
   "execution_count": 119,
   "metadata": {},
   "outputs": [
    {
     "data": {
      "text/plain": [
       "14.133385474177889"
      ]
     },
     "execution_count": 119,
     "metadata": {},
     "output_type": "execute_result"
    }
   ],
   "source": [
    "l3[1][-1]"
   ]
  },
  {
   "cell_type": "code",
   "execution_count": 120,
   "metadata": {},
   "outputs": [
    {
     "data": {
      "text/plain": [
       "3.5774213667577306"
      ]
     },
     "execution_count": 120,
     "metadata": {},
     "output_type": "execute_result"
    }
   ],
   "source": [
    "l4[1][-1]"
   ]
  },
  {
   "cell_type": "code",
   "execution_count": 132,
   "metadata": {},
   "outputs": [
    {
     "data": {
      "text/plain": [
       "<matplotlib.legend.Legend at 0x19ab1094f28>"
      ]
     },
     "execution_count": 132,
     "metadata": {},
     "output_type": "execute_result"
    },
    {
     "data": {
      "image/png": "[encoded data removed]",
      "text/plain": [
       "<Figure size 432x288 with 1 Axes>"
      ]
     },
     "metadata": {
      "needs_background": "light"
     },
     "output_type": "display_data"
    }
   ],
   "source": [
    "custom_lines = [Line2D([0], [0], color='C0', lw=2),\n",
    "                Line2D([0], [0], color='orange', lw=2),\n",
    "                Line2D([0], [0], color='green', lw=2),\n",
    "                Line2D([0], [0], color='red', lw=2)]\n",
    "\n",
    "fig, ax = plt.subplots()\n",
    "plt.semilogy(l1[1])\n",
    "plt.semilogy(l2[1])\n",
    "plt.semilogy(l3[1])\n",
    "plt.semilogy(l4[1])\n",
    "plt.xlabel('Iterations')\n",
    "plt.ylabel('Loss')\n",
    "ax.legend(custom_lines, ['0.0005, accu: '+str(a1), '0.001, accu: '+str(a2), '0.00002, accu: '+str(a3), '0.0006, accu: '+str(a4)])"
   ]
  },
  {
   "cell_type": "code",
   "execution_count": 134,
   "metadata": {},
   "outputs": [
    {
     "data": {
      "text/plain": [
       "(90,)"
      ]
     },
     "execution_count": 134,
     "metadata": {},
     "output_type": "execute_result"
    }
   ],
   "source": [
    "Y_train.shape"
   ]
  },
  {
   "cell_type": "markdown",
   "metadata": {},
   "source": [
    "### 2. Multi-class logistic regression with stochastic gradient descent"
   ]
  },
  {
   "cell_type": "markdown",
   "metadata": {},
   "source": [
    "see Google colab: https://colab.research.google.com/drive/1x9jTe3Up54uR3w9buXwy1Nkf4Z-FMfAI"
   ]
  },
  {
   "cell_type": "markdown",
   "metadata": {},
   "source": [
    "### 3. Training neural network"
   ]
  },
  {
   "cell_type": "markdown",
   "metadata": {},
   "source": [
    "see Google colab: https://colab.research.google.com/drive/1x9jTe3Up54uR3w9buXwy1Nkf4Z-FMfAI"
   ]
  }
 ],
 "metadata": {
  "kernelspec": {
   "display_name": "Python 3",
   "language": "python",
   "name": "python3"
  },
  "language_info": {
   "codemirror_mode": {
    "name": "ipython",
    "version": 3
   },
   "file_extension": ".py",
   "mimetype": "text/x-python",
   "name": "python",
   "nbconvert_exporter": "python",
   "pygments_lexer": "ipython3",
   "version": "3.7.3"
  }
 },
 "nbformat": 4,
 "nbformat_minor": 2
}
