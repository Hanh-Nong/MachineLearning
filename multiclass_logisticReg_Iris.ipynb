{
 "cells": [
  {
   "cell_type": "code",
   "execution_count": 2,
   "metadata": {},
   "outputs": [],
   "source": [
    "import numpy as np\n",
    "import pandas as pd\n",
    "import matplotlib.pyplot as plt\n",
    "import sklearn as sk\n",
    "from sklearn.model_selection import train_test_split"
   ]
  },
  {
   "cell_type": "code",
   "execution_count": 23,
   "metadata": {},
   "outputs": [],
   "source": [
    "df = pd.read_csv('Iris.csv')\n",
    "Y = df['Species'].values\n",
    "X = df[['SepalLengthCm', 'SepalWidthCm', 'PetalLengthCm', 'PetalWidthCm']]\n",
    "X = X.values\n",
    "\n",
    "X_train, X_test, Y_train, Y_test = sk.model_selection.train_test_split(X,Y, test_size = .2)\n",
    "numTrain = X_train.shape[0]\n",
    "numTest = X_test.shape[0]\n",
    "\n",
    "Y_oneHot = pd.get_dummies(Y_train).values\n",
    "K = Y_oneHot.shape[1]"
   ]
  },
  {
   "cell_type": "code",
   "execution_count": 24,
   "metadata": {},
   "outputs": [],
   "source": [
    "N, d = X_train.shape\n",
    "allOnes = np.ones((N,1))\n",
    "X_train = np.hstack((allOnes, X_train))"
   ]
  },
  {
   "cell_type": "code",
   "execution_count": 25,
   "metadata": {},
   "outputs": [],
   "source": [
    "def softmax(u):\n",
    "    expu = np.exp(u)\n",
    "    return expu/np.sum(expu)"
   ]
  },
  {
   "cell_type": "code",
   "execution_count": 26,
   "metadata": {},
   "outputs": [
    {
     "data": {
      "text/plain": [
       "[<matplotlib.lines.Line2D at 0x28a73691fd0>]"
      ]
     },
     "execution_count": 26,
     "metadata": {},
     "output_type": "execute_result"
    },
    {
     "data": {
      "image/png": "[encoded data removed]",
      "text/plain": [
       "<Figure size 432x288 with 1 Axes>"
      ]
     },
     "metadata": {
      "needs_background": "light"
     },
     "output_type": "display_data"
    }
   ],
   "source": [
    "maxIter = 1000\n",
    "alpha = .0005\n",
    "beta = np.random.randn(K,d+1)\n",
    "gradNorms =[]\n",
    "\n",
    "for idx in range(maxIter):\n",
    "    grad = np.zeros((K,d+1))\n",
    "    for i in range(N):\n",
    "        XiHat = X_train[i,:]\n",
    "        Yi = Y_oneHot[i,:]\n",
    "        u = beta @ XiHat #@ here means matrix multiplication in numpy\n",
    "        Su = softmax(u)\n",
    "        grad_i = np.zeros((K,d+1))\n",
    "        for k in range(K):\n",
    "            grad_i[k,:] = (Su[k] - Yi[k])*XiHat\n",
    "        grad += grad_i\n",
    "    beta = beta - alpha*grad\n",
    "    nrm = np.linalg.norm(grad)\n",
    "    gradNorms.append(nrm)\n",
    "    \n",
    "plt.semilogy(gradNorms)"
   ]
  },
  {
   "cell_type": "code",
   "execution_count": 27,
   "metadata": {},
   "outputs": [
    {
     "name": "stdout",
     "output_type": "stream",
     "text": [
      "accuracy: 0.7\n"
     ]
    }
   ],
   "source": [
    "N_test = X_test.shape[0]\n",
    "allOnes_test = np.ones((N_test,1))\n",
    "X_test = np.hstack((allOnes_test, X_test))\n",
    "numSuccess = 0\n",
    "for i in range(N_test):\n",
    "    XiHat = X_test[i,:]\n",
    "    Yi = Y_test[i]\n",
    "    u = beta @ XiHat\n",
    "    Su = softmax(u)\n",
    "    k = np.argmax(Su)\n",
    "    if k == 0:\n",
    "        pred = 'Iris-setosa'\n",
    "    if k == 1:\n",
    "        pred = 'Iris-versicolor'\n",
    "    if k == 2:\n",
    "        pred = 'Iris-verginica'\n",
    "    if pred == Yi:\n",
    "        numSuccess +=1\n",
    "print('accuracy: ' + str(numSuccess/N_test))"
   ]
  }
 ],
 "metadata": {
  "kernelspec": {
   "display_name": "Python 3",
   "language": "python",
   "name": "python3"
  },
  "language_info": {
   "codemirror_mode": {
    "name": "ipython",
    "version": 3
   },
   "file_extension": ".py",
   "mimetype": "text/x-python",
   "name": "python",
   "nbconvert_exporter": "python",
   "pygments_lexer": "ipython3",
   "version": "3.7.3"
  }
 },
 "nbformat": 4,
 "nbformat_minor": 2
}
